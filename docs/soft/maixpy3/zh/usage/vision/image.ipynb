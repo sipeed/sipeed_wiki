{
 "cells": [
  {
   "cell_type": "markdown",
   "id": "f2c0b3ef-ac86-426c-b155-d3e97eb34f81",
   "metadata": {},
   "source": [
    "---\n",
    "\n",
    "title: 传统视觉算法\n",
    "keywords: jupyter， MaixPy3 IDE，图像显示，图像处理\n",
    "desc: maixpy doc: 如何显示一张图，如何获取一张图，如何修改一张图\n",
    "\n",
    "---"
   ]
  },
  {
   "cell_type": "markdown",
   "id": "71d17668",
   "metadata": {},
   "source": [
    "# 图像处理\n",
    "\n",
    "> 2022年01月11日 以下代码由于 MaixPy3 还在施工中，此处代码仅供参考和示范，功能已在 github 和 社区供其他同学使用和参考。"
   ]
  },
  {
   "cell_type": "code",
   "execution_count": null,
   "id": "bb5b2c93",
   "metadata": {},
   "outputs": [],
   "source": []
  }
 ],
 "metadata": {
  "kernelspec": {
   "display_name": "RPyc-Python",
   "language": "Python",
   "name": "rpyc"
  },
  "language_info": {
   "codemirror_mode": "python",
   "file_extension": ".py",
   "mimetype": "text/python",
   "name": "Python"
  }
 },
 "nbformat": 4,
 "nbformat_minor": 5
}
