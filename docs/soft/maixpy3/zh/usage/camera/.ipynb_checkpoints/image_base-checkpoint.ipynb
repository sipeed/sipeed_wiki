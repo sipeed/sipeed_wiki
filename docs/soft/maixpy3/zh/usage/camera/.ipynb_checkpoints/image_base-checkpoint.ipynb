{
 "cells": [
  {
   "cell_type": "markdown",
   "metadata": {},
   "source": [
    "---\n",
    "\n",
    "title: 图像的获取与显示\n",
    "keywords: jupyter， MaixPy3 IDE， 图像获取，图像显示\n",
    "desc: maixpy doc: 如何显示一张图，如何获取一张图\n",
    "\n",
    "---"
   ]
  },
  {
   "cell_type": "markdown",
   "metadata": {},
   "source": [
    "\n",
    "### 显示一张图片\n"
   ]
  },
  {
   "cell_type": "code",
   "execution_count": null,
   "metadata": {},
   "outputs": [
    {
     "name": "stdout",
     "output_type": "stream",
     "text": [
      "[ rpyc-kernel ]( running at Tue Jan 11 10:54:02 2022 )\n",
      "123\n"
     ]
    }
   ],
   "source": [
    "from maix import image, display\n",
    "\n",
    "img = image.Image()\n",
    "\n",
    "print(img)\n",
    "\n",
    "display.show(img)\n",
    "\n",
    "\n"
   ]
  },
  {
   "cell_type": "markdown",
   "metadata": {},
   "source": [
    "\n",
    "\n",
    "图像获取主要有以下几种方式。\n",
    "\n",
    "### 创建一张图像\n",
    "\n",
    "### 打开一张图像\n",
    "\n",
    "### 从摄像头获取一张图像\n"
   ]
  }
 ],
 "metadata": {
  "kernelspec": {
   "display_name": "RPyc-Python",
   "language": "Python",
   "name": "rpyc"
  },
  "language_info": {
   "codemirror_mode": "python",
   "file_extension": ".py",
   "mimetype": "text/python",
   "name": "Python"
  }
 },
 "nbformat": 4,
 "nbformat_minor": 4
}
